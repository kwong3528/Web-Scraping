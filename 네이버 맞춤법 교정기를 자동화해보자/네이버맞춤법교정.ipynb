{
  "nbformat": 4,
  "nbformat_minor": 0,
  "metadata": {
    "colab": {
      "name": "네이버맞춤법교정.ipynb",
      "provenance": [],
      "collapsed_sections": []
    },
    "kernelspec": {
      "name": "python3",
      "display_name": "Python 3"
    },
    "accelerator": "GPU"
  },
  "cells": [
    {
      "cell_type": "code",
      "metadata": {
        "id": "Hn5dDRavUxJ3",
        "colab_type": "code",
        "colab": {},
        "collapsed": true
      },
      "source": [
        "import requests\n",
        "\n",
        "headers = {\n",
        "    'User-Agent' : 'Mozilla/5.0 (Windows; U; Windows NT 6.1; ko; rv:1.9.2.8) Gecko/20100722 Firefox/3.6.8 IPMS/A640400A-14D460801A1-000000426571',   # firefox UserAgent\n",
        "}"
      ],
      "execution_count": 0,
      "outputs": []
    },
    {
      "cell_type": "code",
      "metadata": {
        "id": "W1zHmupbiqpG",
        "colab_type": "code",
        "colab": {}
      },
      "source": [
        "from bs4 import BeautifulSoup\n",
        "naver = []\n",
        "\n",
        "url = \"https://m.search.naver.com/p/csearch/ocontent/util/SpellerProxy?\"\n",
        "params = {\n",
        "  '_callback': 'jQuery112402321024903972273_1572938664083',\n",
        "  'q': '안뇽하세요 저는 뇨자입니다',\n",
        "  'where':'nexearch',\n",
        "  'color_blindness':0,\n",
        "  '_': 1572938664085}\n",
        "\n",
        "response = requests.get(url,params=params, headers=headers).text\n",
        "soup = BeautifulSoup(response, \"html.parser\")"
      ],
      "execution_count": 0,
      "outputs": []
    },
    {
      "cell_type": "code",
      "metadata": {
        "id": "RnG96zTSi3-u",
        "colab_type": "code",
        "colab": {
          "base_uri": "https://localhost:8080/",
          "height": 55
        },
        "outputId": "248a7bd1-bbb9-4c73-e44f-6a4517eb5bc8"
      },
      "source": [
        "soup"
      ],
      "execution_count": 104,
      "outputs": [
        {
          "output_type": "execute_result",
          "data": {
            "text/plain": [
              "jQuery112402321024903972273_1572938664083({\"message\":{\"result\":{\"errata_count\":2,\"origin_html\":\"<span class=\"result_underline\">안뇽하세요</span> 저는 <span class=\"result_underline\">뇨자입니다</span>\",\"html\":\"<em class=\"red_text\">안녕하세요</em> 저는 <em class=\"red_text\">여자입니다</em>\",\"notag_html\":\"안녕하세요 저는 여자입니다\"}}});"
            ]
          },
          "metadata": {
            "tags": []
          },
          "execution_count": 104
        }
      ]
    },
    {
      "cell_type": "code",
      "metadata": {
        "id": "oottii5ToV_D",
        "colab_type": "code",
        "colab": {
          "base_uri": "https://localhost:8080/",
          "height": 35
        },
        "outputId": "56e6a399-3d9b-44fd-ee80-3966542e9ee7"
      },
      "source": [
        "sep = \"notag_html\"\n",
        "\n",
        "soup = (str(soup))\n",
        "result = soup.split(sep, 1)[1]\n",
        "\n",
        "result"
      ],
      "execution_count": 106,
      "outputs": [
        {
          "output_type": "execute_result",
          "data": {
            "text/plain": [
              "'\":\"안녕하세요 저는 여자입니다\"}}});'"
            ]
          },
          "metadata": {
            "tags": []
          },
          "execution_count": 106
        }
      ]
    },
    {
      "cell_type": "code",
      "metadata": {
        "id": "3ew_7juko6kb",
        "colab_type": "code",
        "colab": {}
      },
      "source": [
        "def preprocessing(text):\n",
        "  text = re.sub('[^가-힣ㄱ-ㅎㅏ-ㅣa-zA-z]',' ', text)\n",
        "  text = text.strip()\n",
        "  return text"
      ],
      "execution_count": 0,
      "outputs": []
    },
    {
      "cell_type": "code",
      "metadata": {
        "id": "Oy_AtNCpqG6Z",
        "colab_type": "code",
        "colab": {
          "base_uri": "https://localhost:8080/",
          "height": 35
        },
        "outputId": "5fa78322-8e66-489a-fc48-0efb86130dda"
      },
      "source": [
        "preprocessing(result)"
      ],
      "execution_count": 108,
      "outputs": [
        {
          "output_type": "execute_result",
          "data": {
            "text/plain": [
              "'안녕하세요 저는 여자입니다'"
            ]
          },
          "metadata": {
            "tags": []
          },
          "execution_count": 108
        }
      ]
    }
  ]
}